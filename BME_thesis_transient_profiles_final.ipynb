{
 "cells": [
  {
   "cell_type": "markdown",
   "id": "4e46bc7c-9002-403c-949c-45d3cab89b4c",
   "metadata": {},
   "source": [
    "In the following notebook I create the spatial profile of signal transients. Signals were previously extracted, smoothened by the optimal Gauss-kernel and also significant events were detected on each signal - A soma, A dendrite, B soma. Spatial profile in this term means that  whenever a signal reaches a specific treshold (theta_upper) and does not go under another (theta_lower) thershold - I use the same signal event detection algorithm and its parameters for transient profiling - we can observ an event where the signal has a local peak. This event is also observable if look the total view of 3D frames, or if we create separate windows for each somas and dendrite. Whatever is the case, when a transient occurs in the dendrites for instance, we should see the spatial characteristics of that specific transient event. This means, in cases when the dendrite has true event its spatial contrast in space is clearly visible, whereas in case of false transients (i.e.: noise) there is no visible or weakly visible contrast between the dendritic mask and the other fields of the window (or the total frame).\n",
    "\n",
    "Transient profiles were calculated by using the weighted sum of ith video frames, where I weight them by the ith element of the transient time course then summing it. Then I normalized by the total magnitude of the transient event (Gauthier et al., 2022). To decide which transient is true, first I implemented a function that decides it automatically based on the orginal synthetic spikes.\n",
    "\n",
    "Reference:\n",
    "\n",
    "Gauthier, J. L., Charles, A. S., Pillow, J. W., Tank, D. W., Nieh, E. H., & Koay, S. A. (2022) Detecting and correcting false transients in calcium imaging. Nature methods. Retrieved January 30, 2023, from https://pubmed.ncbi.nlm.nih.gov/35347320\n"
   ]
  },
  {
   "cell_type": "code",
   "execution_count": 54,
   "id": "a3f15cb5-5763-4f54-96b2-bec22c5f303d",
   "metadata": {},
   "outputs": [],
   "source": [
    "# packages\n",
    "import numpy as np\n",
    "import numpy.ma as ma\n",
    "import matplotlib as mpl\n",
    "import matplotlib.pyplot as plt\n",
    "import os\n",
    "import scipy \n",
    "\n",
    "from scipy import signal\n",
    "from matplotlib.backends.backend_pdf import PdfPages\n",
    "from skimage.draw import polygon2mask\n",
    "from shapely import Polygon\n",
    "from shapely import affinity\n",
    "from shapely.geometry.polygon import Polygon"
   ]
  },
  {
   "cell_type": "markdown",
   "id": "e98e7b3b-4d1a-482e-8961-b852fbad6cbb",
   "metadata": {},
   "source": [
    "I load every data that was created in the synthetic data generation process. I will use the commented lines for the spatial profiles"
   ]
  },
  {
   "cell_type": "code",
   "execution_count": 55,
   "id": "1462c21a-44f3-492a-b498-42a3cf9fe2d3",
   "metadata": {},
   "outputs": [],
   "source": [
    "# First, I will use the whole tensor to create the source profiles - 3D windows in whihch I observe transient events.\n",
    "synthetic_dF = np.load('synthetic_dF.npy')\n",
    "\n",
    "# I will use the smoothened signals.\n",
    "synthetic_a_soma_signal_smooth = np.load('synthetic_a_soma_signal_smooth.npy', allow_pickle = True) \n",
    "synthetic_a_dendrite_signal_smooth = np.load('synthetic_a_dendrite_signal_smooth.npy', allow_pickle = True)\n",
    "synthetic_b_soma_signal_smooth = np.load('synthetic_b_soma_signal_smooth.npy', allow_pickle = True)\n",
    "\n",
    "# I will use the original signals as well.\n",
    "synthetic_dF_a_soma = np.load('synthetic_dF_a_soma.npy', allow_pickle = True)\n",
    "synthetic_dF_a_dend = np.load('synthetic_dF_a_dend.npy', allow_pickle = True)\n",
    "synthetic_dF_b_soma = np.load('synthetic_dF_b_soma.npy', allow_pickle = True)\n",
    "\n",
    "# Masks\n",
    "masks_main = np.load('masks.npy', allow_pickle = True)\n",
    "asomabase = np.load('asomabase.npy', allow_pickle = True)\n",
    "adendritebase = np.load('adendritebase.npy', allow_pickle = True)\n",
    "bsomabase = np.load('bsomabase.npy', allow_pickle = True)\n",
    "\n",
    "# Detected events (spikes)\n",
    "synthetic_somatic_event1 = np.load('synthetic_somatic_event1.npy', allow_pickle = True)\n",
    "synthetic_dendritic_event = np.load('synthetic_dendritic_event.npy', allow_pickle = True)\n",
    "synthetic_somatic_event2 = np.load('synthetic_somatic_event2.npy', allow_pickle = True)\n",
    "\n",
    "# OG spikes\n",
    "synthetic_spikes_a_soma = np.load('synthetic_spikes_a_soma.npy', allow_pickle = True)\n",
    "synthetic_spikes_a_dendrite = np.load('synthetic_spikes_a_dendrite.npy', allow_pickle = True)\n",
    "synthetic_spikes_b_soma = np.load('synthetic_spikes_b_soma.npy', allow_pickle = True)"
   ]
  },
  {
   "cell_type": "markdown",
   "id": "cca413cc-99f2-4996-9fdc-3cf34bf2b677",
   "metadata": {},
   "source": [
    "In the next cell, I have added a 5 long zero-pad to the smoothened signals.\n",
    "This is needed in cases when there is a transient occuring at the very end of the signal."
   ]
  },
  {
   "cell_type": "code",
   "execution_count": 56,
   "id": "fb520d57-47d7-450c-bf90-069c059f30cd",
   "metadata": {},
   "outputs": [],
   "source": [
    "pad_signal = np.zeros(100)\n",
    "synthetic_a_soma_signal_smooth = np.append(synthetic_a_soma_signal_smooth, pad_signal)\n",
    "synthetic_a_dendrite_signal_smooth = np.append(synthetic_a_dendrite_signal_smooth, pad_signal)\n",
    "synthetic_b_soma_signal_smooth = np.append(synthetic_b_soma_signal_smooth, pad_signal)\n",
    "len_signals = len(synthetic_b_soma_signal_smooth)"
   ]
  },
  {
   "cell_type": "markdown",
   "id": "377aac36-f20b-4a51-a5b3-5b777704edda",
   "metadata": {},
   "source": [
    "In the next cell I create I pad the movie tensor in case of plotting signals conveniently when it occurs at the very end of the signal array."
   ]
  },
  {
   "cell_type": "code",
   "execution_count": 57,
   "id": "f00f13d6-ee0b-4179-818b-e83f3d5befcc",
   "metadata": {},
   "outputs": [],
   "source": [
    "pad_len = 100\n",
    "zero_pad_array = 100*100*pad_len\n",
    "pad_dF = np.zeros(zero_pad_array)\n",
    "pad_dF = pad_dF.reshape(100,100,pad_len)\n",
    "synthetic_dF = np.append(synthetic_dF, pad_dF, axis=2)"
   ]
  },
  {
   "cell_type": "markdown",
   "id": "b4e001a8-2d41-4b54-9e9a-d8578dc97c54",
   "metadata": {},
   "source": [
    "Copy the tensor and create the mean image of it:"
   ]
  },
  {
   "cell_type": "code",
   "execution_count": 58,
   "id": "23415b36-09d3-4b2f-9e49-6f730c3ef1f2",
   "metadata": {},
   "outputs": [],
   "source": [
    "synthetic_movie = synthetic_dF.copy()\n"
   ]
  },
  {
   "cell_type": "markdown",
   "id": "cc310489-fbfe-4250-a429-882c719ce894",
   "metadata": {},
   "source": [
    "In the next cell I create a function which expands the ROI masks:"
   ]
  },
  {
   "cell_type": "code",
   "execution_count": 59,
   "id": "4c06538b-3235-4473-81db-ccff6cd507ce",
   "metadata": {},
   "outputs": [],
   "source": [
    "def roi_expander(roi, d = 2):\n",
    "    \n",
    "    d2 = d*2\n",
    "    \n",
    "    roi = np.ma.where(roi)\n",
    "    roi = list(np.column_stack(roi))\n",
    "    np.unique(np.array(roi), axis=0)\n",
    "    \n",
    "    for i in np.arange(len(roi)):\n",
    "        x = roi[i][0]\n",
    "        y = roi[i][1]\n",
    "        roi.append([x-d,y+d])\n",
    "        roi.append([x+d,y-d])\n",
    "        roi.append([x+d,y+d])\n",
    "        roi.append([x-d,y-d])\n",
    "          \n",
    "    new_roi = np.unique(np.array(roi), axis=0)\n",
    "    \n",
    "    return new_roi"
   ]
  },
  {
   "cell_type": "code",
   "execution_count": 60,
   "id": "02ee47bd-2f0c-4dda-ba76-21949471147c",
   "metadata": {},
   "outputs": [],
   "source": [
    "# def source_corner_coordinates(new_roi):\n",
    "#     minimum0 = min(new_roi[:,0])\n",
    "#     maximum0 = max(new_roi[:,0])\n",
    "#     minimum1 = min(new_roi[:,1])\n",
    "#     maximum1 = max(new_roi[:,1])\n",
    "#     return minimum0, maximum0, minimum1, maximum1"
   ]
  },
  {
   "cell_type": "markdown",
   "id": "237a236f-26f8-4be4-9686-0793e190e905",
   "metadata": {},
   "source": [
    "Create the new masks:"
   ]
  },
  {
   "cell_type": "code",
   "execution_count": 61,
   "id": "e5152d04-26f5-4f03-adc9-fc450f3f05ee",
   "metadata": {},
   "outputs": [],
   "source": [
    "asoma_expanded = roi_expander(asomabase, 6)\n",
    "adendrite_expanded = roi_expander(adendritebase, 6)\n",
    "bsoma_expanded = roi_expander(bsomabase, 6)"
   ]
  },
  {
   "cell_type": "markdown",
   "id": "bae76815-a548-4b6c-872e-d38b0c7367ea",
   "metadata": {},
   "source": [
    "The following funcion (transient_event_detecor) is the previoulsy introduced function - made for transient event detection."
   ]
  },
  {
   "cell_type": "code",
   "execution_count": 62,
   "id": "456dc0ce-2c88-4ed2-a9d0-843c4463c78e",
   "metadata": {},
   "outputs": [],
   "source": [
    "def event_detector(signal, theta_upper = 1.65, theta_lower = 1.6): \n",
    "    \n",
    "    N = len(signal)\n",
    "    \n",
    "    event = np.zeros(N)\n",
    "    transient = np.zeros(N)\n",
    "    start_end = []\n",
    "    \n",
    "    refr = 0\n",
    "    start_end_i = np.zeros(2)\n",
    "    \n",
    "    for i in np.arange(1,N):\n",
    "        if ((signal[i] > theta_upper) and (signal[i-1] < theta_upper) and (refr == 0)):\n",
    "            event[i] = 1 \n",
    "            refr = 1\n",
    "            start_end_i[0] = i\n",
    "        if ((signal[i]<theta_lower) and (signal[i-1]>theta_lower) and (refr == 1)):\n",
    "            refr = 0\n",
    "            start_end_i[1] = i\n",
    "            start_end.append(start_end_i)\n",
    "            start_end_i = np.zeros(2)\n",
    "        if (refr == 1):\n",
    "            transient[i] = 1\n",
    "    if ((start_end_i[0] > 0) & (start_end_i[1] == 0)):\n",
    "        start_end_i[1] = N\n",
    "        start_end.append(start_end_i)\n",
    "    \n",
    "    return event, transient, start_end"
   ]
  },
  {
   "cell_type": "markdown",
   "id": "2b085392-68e0-4cee-89ee-30a706b7b84d",
   "metadata": {},
   "source": [
    "## Here we specifiy the threshold of the etected transient event:"
   ]
  },
  {
   "cell_type": "markdown",
   "id": "0bc72cfc-dc99-4dc5-a2f6-39276c2706b0",
   "metadata": {},
   "source": [
    "Here I specifiy the smoothed signal that we would like to call for transient event detection and use later for transient profile creation."
   ]
  },
  {
   "cell_type": "code",
   "execution_count": 63,
   "id": "187f568a-2e84-475a-8184-b4bbe51aa40b",
   "metadata": {},
   "outputs": [],
   "source": [
    "signal_a_soma = synthetic_a_soma_signal_smooth.copy()\n",
    "signal_a_dend = synthetic_a_dendrite_signal_smooth.copy()\n",
    "signal_b_soma = synthetic_b_soma_signal_smooth.copy()\n",
    "\n",
    "actual_signal = signal_a_dend\n",
    "\n",
    "threshold_upper = 0.25\n",
    "threshold_lower = 0.1\n",
    "\n",
    "event, transient, start_end = event_detector(actual_signal, threshold_upper, threshold_lower)"
   ]
  },
  {
   "cell_type": "markdown",
   "id": "5ada7fb4-6094-4982-9062-ff234f7a0522",
   "metadata": {},
   "source": [
    "Event length:"
   ]
  },
  {
   "cell_type": "code",
   "execution_count": 64,
   "id": "2572a042-51d1-4bed-b83e-d7def2468581",
   "metadata": {},
   "outputs": [],
   "source": [
    "event_length = np.array(start_end)[:,1] - np.array(start_end)[:,0]"
   ]
  },
  {
   "cell_type": "markdown",
   "id": "2528d14d-f773-4609-8bc5-98fae437236d",
   "metadata": {},
   "source": [
    "Lists of the begining and the end of transient events:"
   ]
  },
  {
   "cell_type": "code",
   "execution_count": 65,
   "id": "bc257d42-51b0-488d-9fa8-148599990a93",
   "metadata": {},
   "outputs": [],
   "source": [
    "lista_lower = np.array(start_end)[:,0].astype(int)\n",
    "lista_upper = np.array(start_end)[:,1].astype(int)"
   ]
  },
  {
   "cell_type": "code",
   "execution_count": 66,
   "id": "6895c222-d804-4ffe-8a74-b67f2f6b4074",
   "metadata": {},
   "outputs": [],
   "source": [
    "#Uncomment the actual compartment!\n",
    "\n",
    "# a_soma_list_lower = lista_lower\n",
    "# a_soma_list_lower_save = np.save('a_soma_list_lower', a_soma_list_lower)\n",
    "\n",
    "dend_list_lower = lista_lower\n",
    "dend_list_lower_save = np.save('dend_list_lower', dend_list_lower)\n",
    "\n",
    "# b_soma_list_lower = lista_lower\n",
    "# b_soma_list_lower_save = np.save('b_soma_list_lower', b_soma_list_lower)"
   ]
  },
  {
   "cell_type": "markdown",
   "id": "22a309d3-65f9-4f6a-b7ea-f1307d6d5e26",
   "metadata": {},
   "source": [
    "The transient_profile function creates the transient profiles based on the smoothened signal, the base picture, the minimum, the maximum value of the tranisient event and the step size units between the min and the max (default = 1). It is calculating the transient profiles were calculated by using the weighted sum of ith video frames, where I weight them by the ith element of the transient time course then summing it (Gauthier et al., 2022). \n",
    "\n",
    "Within the function, first, I modify the end coordinate of the transient event in manner, that in case when it occurs in the end a transient profile still can be created (starts to create the profile from the element of index -6). Second, I add 5 extra elements to the transient event in both - and + diretion to show the signal not only when it hits the thresholds (theta_upper, theta_lower). Thirdly I cut out signal and the frames in the defined time sequence (index) from the signal and the source profile window. Afther this, I multiply the slice of the signal and the source profile sequence that I got in the last step. Finally, I sum the result through the event (axis = 2 - time angle) and extract the mean of the pixel-correlational coeffiecients that has been calculated between the mask and the transient profile."
   ]
  },
  {
   "cell_type": "code",
   "execution_count": 67,
   "id": "e15675f2-2649-4d7b-a72c-d55842692ccd",
   "metadata": {},
   "outputs": [],
   "source": [
    "def transient_profile(transient_signal, movie_data, start, stop):\n",
    "    \n",
    "    stop = stop\n",
    "    \n",
    "    if stop >= len(transient_signal)-1:\n",
    "        stop = len(transient_signal)-6\n",
    "    \n",
    "    index = np.arange(start-5, stop+5)\n",
    "    transient = transient_signal[index]\n",
    "    transient_movie_data = movie_data[:,:,index]\n",
    "    W = transient * transient_movie_data #weighted_frames\n",
    "    transient_pic = np.sum(W, axis=2)\n",
    "    normalized_trans_pic = transient_pic/sum(transient**2)\n",
    "    trans = normalized_trans_pic\n",
    "    return trans"
   ]
  },
  {
   "cell_type": "markdown",
   "id": "5b179200-2b10-409e-8aa1-373db4d2682b",
   "metadata": {},
   "source": [
    "Saving the starting index paramteres of transients belonging to a certain soma or dendrite."
   ]
  },
  {
   "cell_type": "markdown",
   "id": "83dd7aea-3ae0-4e09-8ec5-e2db27289dd6",
   "metadata": {},
   "source": [
    "Essentially, the magazine function plots nine (3x3) items to one pdf page. It shows the total spatial (constant) viev of the spatial data, the base profile, the transient profile, the signals of every compartment (somas and dendrite) and their original signal - before the extraction from masks. Since, one page consits one transient event, the function creates a pdf file that has the same number of pages with the detected transient events. It is important to note that the function only creates the transient profiles of one neural compartment (i.e.: dendrites), so we have to run the function 3 times. To merge these pdf files I have created a different code in a different notebook.\n",
    "\n",
    "Notice: All the transient event lengths are marked by moccasin color on the extracted signal plots and all the true transients has red frame on the transient profile image."
   ]
  },
  {
   "cell_type": "code",
   "execution_count": 68,
   "id": "0d343e22-f50a-48de-b2b9-e5085048a29b",
   "metadata": {},
   "outputs": [],
   "source": [
    "def magazine(prof_mask, smooth_signal, source_profile, base_profile,\n",
    "             index_start, index_stop, synthetic_dF_actual, want, offset = 50,\n",
    "             title = '{0}. dendritic transient', name = ''): \n",
    "    \n",
    "    l = len(index_start)\n",
    "    for i in range(l):\n",
    "        \n",
    "        fig = plt.figure(i)\n",
    "        fig.set_figheight(50)\n",
    "        fig.set_figwidth(42)\n",
    "        \n",
    "        plt.rcParams.update({'figure.max_open_warning': 0})\n",
    "        \n",
    "        plt.subplots_adjust(hspace=0.5)\n",
    "    \n",
    "        \n",
    "        rows = 3\n",
    "        columns = 3\n",
    "        \n",
    "        trans = transient_profile(smooth_signal, source_profile, index_start[i], index_stop[i])\n",
    "        \n",
    "        buffered_mask = np.array(prof_mask)\n",
    "        mask = polygon2mask(trans.shape, buffered_mask)\n",
    "        result = ma.masked_array(trans, np.invert(mask))\n",
    "        \n",
    "        base_result = ma.masked_array(base_profile, np.invert(mask))\n",
    "        \n",
    "\n",
    "        x_var = trans[tuple(prof_mask.T)].tolist()\n",
    "        y_var = base_profile[tuple(prof_mask.T)].tolist()\n",
    "        cor = np.round(np.corrcoef(x_var, y_var)[0][1], 3)\n",
    "\n",
    "        interval_min = offset\n",
    "        \n",
    "        if smooth_signal[index_start[i]+2] > 2:\n",
    "            interval_min = offset +20\n",
    "        else:\n",
    "            interval_min = offset\n",
    "        \n",
    "        interval_max = interval_min + (index_stop[i]-index_start[i]) + 1\n",
    "        \n",
    "        \n",
    "        #time scale parameters\n",
    "        len_signal = len(synthetic_a_soma_signal_smooth)\n",
    "        time_len_s = round(903/len_signal,2) #!\n",
    "        start_point = index_start[i]-offset\n",
    "        end_point = index_stop[i]+offset\n",
    "        time_interval = round((end_point-start_point)/5)\n",
    "        lbls = [i*time_len_s for i in list(range(start_point, end_point, time_interval))]\n",
    "        lbls = [round(num, 1) for num in lbls]\n",
    "        tcks = list(range(0,end_point-start_point, time_interval))\n",
    "        \n",
    "        # minimum0, maximum0, minimum1, maximum1 = source_corner_coordinates(prof_mask)\n",
    "        \n",
    "        # Adaptive Y-lim:\n",
    "        # idk = smooth_signal[index_start[i]-5:index_stop[j]+5]\n",
    "        # min_idk = min(idk)\n",
    "        # max_idk = max(idk)\n",
    "        # minmax_idk = (abs(min_idk)+abs(max_idk))/2\n",
    "        # poaksd = minmax_idk/4\n",
    "        # plt.ylim([min_idk-poaksd, max_idk+poaksd])\n",
    "        \n",
    "        #1\n",
    "        fig.add_subplot(rows, columns, 1,)\n",
    "        plt.imshow(masks_main)\n",
    "        plt.title('A - Total view \\n', fontsize = 40)\n",
    "        plt.axis('off')\n",
    "\n",
    "        #2\n",
    "        fig.add_subplot(rows, columns, 2)\n",
    "        plt.imshow(base_result)\n",
    "        plt.title('B - Source profile \\n', fontsize =40)\n",
    "        plt.axis('off')\n",
    "        \n",
    "        #3\n",
    "        ax = fig.add_subplot(rows, columns, 3)\n",
    "        ax.imshow(result)\n",
    "        plt.title('C - Transient profile \\n r = {0}'.format(cor), fontsize = 40)\n",
    "        # plt.xlim(minimum1, maximum1)\n",
    "        # plt.ylim(maximum0, minimum0)\n",
    "        plt.xticks(color = 'w')\n",
    "        plt.yticks(color = 'w')\n",
    "        \n",
    "        want = want\n",
    "        want_i = [index_start[k] for k in want]\n",
    "        \n",
    "        color = \"red\" if index_start[i] in want_i else \"white\"\n",
    "        for x in [\"top\",\"left\",\"right\",\"bottom\"]:\n",
    "            ax.spines[x].set_color(color)\n",
    "            ax.spines[x].set_linewidth(16)\n",
    "        \n",
    "        \n",
    "        #4\n",
    "        fig.add_subplot(rows, columns, 4)\n",
    "        plt.plot(synthetic_a_soma_signal_smooth[index_start[i]-offset:index_stop[i]+offset], 'k')\n",
    "        plt.title('D - A Soma dF/F \\n', fontsize = 40)\n",
    "        plt.ylim([-0.5, 2.5])\n",
    "        plt.xlabel('Time (s)', fontsize = 30, labelpad = 5)\n",
    "        plt.ylabel('Amplitude', fontsize = 30, labelpad = -15)\n",
    "        plt.xticks(ticks = tcks, labels = lbls, fontsize = 30)\n",
    "        plt.yticks(fontsize = 30)\n",
    "        plt.axvspan(interval_min, interval_max, color='moccasin', alpha=0.7)\n",
    "\n",
    "        #5\n",
    "        fig.add_subplot(rows, columns, 5)\n",
    "        plt.plot(synthetic_a_dendrite_signal_smooth[index_start[i]-offset:index_stop[i]+offset], 'r')\n",
    "        plt.title('E - A Dendrite dF/F \\n', fontsize = 40)\n",
    "        plt.ylim([-0.5, 2.5])\n",
    "        plt.xlabel('Time (s)', fontsize = 30, labelpad = 5)\n",
    "        plt.ylabel('Amplitude', fontsize = 30, labelpad = -15)\n",
    "        plt.xticks(ticks = tcks,labels = lbls, fontsize = 30)\n",
    "        plt.yticks(fontsize = 30)\n",
    "        plt.axvspan(interval_min, interval_max, color='moccasin', alpha=0.5)\n",
    "        \n",
    "        #6\n",
    "        fig.add_subplot(rows, columns, 6)\n",
    "        plt.plot(synthetic_b_soma_signal_smooth[index_start[i]-offset:index_stop[i]+offset], 'b')\n",
    "        plt.title('F - B Soma dF/F \\n', fontsize = 40)\n",
    "        plt.ylim([-0.5, 2.5])\n",
    "        plt.xlabel('Time (s)', fontsize = 30, labelpad = 5)\n",
    "        plt.ylabel('Amplitude', fontsize = 30, labelpad = -15)\n",
    "        plt.xticks(ticks = tcks,labels = lbls, fontsize = 30)\n",
    "        plt.yticks(fontsize = 30)\n",
    "        plt.axvspan(interval_min, interval_max, color='moccasin', alpha=0.5)\n",
    "        \n",
    "        #7\n",
    "        fig.add_subplot(rows, columns, 7)\n",
    "        plt.plot(synthetic_dF_a_soma[index_start[i]-offset:index_stop[i]+offset], 'k')\n",
    "        plt.ylim([-50, 800])\n",
    "        plt.xlabel('Time (s)', fontsize = 30, labelpad = 5)\n",
    "        plt.ylabel('Amplitude', fontsize = 30, labelpad = 5)\n",
    "        plt.xticks(ticks = tcks,labels = lbls, fontsize = 30)\n",
    "        plt.yticks(fontsize = 30)\n",
    "        plt.title('G - A Soma original signal \\n', fontsize = 40)\n",
    "        \n",
    "        #8\n",
    "        fig.add_subplot(rows, columns, 8)\n",
    "        plt.plot(synthetic_dF_a_dend[index_start[i]-offset:index_stop[i]+offset], 'r')\n",
    "        plt.ylim([-50, 800])\n",
    "        plt.xlabel('Time (s)', fontsize = 30, labelpad = 5)\n",
    "        plt.ylabel('Amplitude', fontsize = 30, labelpad = 5)\n",
    "        plt.xticks(ticks = tcks,labels = lbls, fontsize = 30)\n",
    "        plt.yticks(fontsize = 30)\n",
    "        plt.title('H - A Dendrite original signal \\n', fontsize = 40)\n",
    "            \n",
    "        #9\n",
    "        fig.add_subplot(rows, columns, 9)\n",
    "        plt.plot(synthetic_dF_b_soma[index_start[i]-offset:index_stop[i]+offset], 'b')\n",
    "        plt.ylim([-50, 800])\n",
    "        plt.xlabel('Time (s)', fontsize = 30, labelpad = 5)\n",
    "        plt.ylabel('Amplitude', fontsize = 30, labelpad = 5)\n",
    "        plt.xticks(ticks = tcks, labels = lbls, fontsize = 30)\n",
    "        plt.yticks(fontsize = 30)\n",
    "        plt.title('I - B Soma original signal \\n', fontsize = 40)\n",
    "        \n",
    "        title_num = 1\n",
    "        title_num = title_num + i\n",
    "          \n",
    "        fig.suptitle(title.format(title_num), fontsize = 40, weight = 'bold')\n",
    "        \n",
    "        pdf_pages = len(lista_upper)\n",
    "        \n",
    "        with PdfPages(name) as pdf:\n",
    "            for fig in range(pdf_pages):\n",
    "                plt.figure(fig)\n",
    "                pdf.savefig(bbox_inches=\"tight\")"
   ]
  },
  {
   "cell_type": "markdown",
   "id": "c46282a6-99c6-4051-86be-1d42cbc99af5",
   "metadata": {},
   "source": [
    "Correlation function:"
   ]
  },
  {
   "cell_type": "code",
   "execution_count": 69,
   "id": "ef1021c9-7994-4f7b-8db7-b03131e2ff8c",
   "metadata": {},
   "outputs": [],
   "source": [
    "def corr_coeffs(expanded_ROI_coordinates, smoothed_signal, synthetic_movie_data, static_ROImask, \n",
    "               trans_event_start, trans_event_end):\n",
    "    \n",
    "    cor_list = []\n",
    "    cor_list_i = np.zeros(2)\n",
    "\n",
    "    n = len(trans_event_start)\n",
    "    for i in range(n):\n",
    "        \n",
    "        transient_pic = transient_profile(smoothed_signal, synthetic_movie_data, trans_event_start[i], trans_event_end[i])\n",
    "        \n",
    "        x_var = transient_pic[tuple(expanded_ROI_coordinates.T)].tolist()\n",
    "        y_var = static_ROImask[tuple(expanded_ROI_coordinates.T)].tolist()\n",
    "        cor_coeff = np.round(np.corrcoef(x_var, y_var)[0][1], 3)\n",
    "        cor_list_i[0] = lista_lower[i]\n",
    "        cor_list_i[1] = cor_coeff\n",
    "        cor_list.append(cor_list_i)\n",
    "        cor_list_i = np.zeros(2)\n",
    "                \n",
    "    return cor_list"
   ]
  },
  {
   "cell_type": "markdown",
   "id": "69fcc186-670e-48f8-9742-d45ef30b82b5",
   "metadata": {},
   "source": [
    "## From here we specifiy the correlation list according to the actual compartment and the plots of the transient profiles of the actual compartment:"
   ]
  },
  {
   "cell_type": "code",
   "execution_count": 70,
   "id": "03bd1c3a-ecdb-490a-9bef-73f67d154ab9",
   "metadata": {},
   "outputs": [],
   "source": [
    "#Uncomment the actual correlation array!\n",
    "\n",
    "# cor_asom = corr_coeffs(asoma_expanded, synthetic_a_soma_signal_smooth, synthetic_movie, asomabase, lista_lower, lista_upper)\n",
    "cor_dend = corr_coeffs(adendrite_expanded, synthetic_a_dendrite_signal_smooth, synthetic_movie, adendritebase, lista_lower, lista_upper)\n",
    "# cor_bsom = corr_coeffs(bsoma_expanded, synthetic_b_soma_signal_smooth, synthetic_movie, bsomabase, lista_lower, lista_upper)"
   ]
  },
  {
   "cell_type": "code",
   "execution_count": 71,
   "id": "81b2cd22-9d41-43ee-ac4b-c06db2765d0f",
   "metadata": {},
   "outputs": [],
   "source": [
    "#need to specifiy the actual compartment\n",
    "\n",
    "actual_cor = cor_dend\n",
    "\n",
    "correlation_indices = np.array(actual_cor)[:,0].astype(int)\n",
    "correlation_coefficients = np.array(actual_cor)[:,1]"
   ]
  },
  {
   "cell_type": "markdown",
   "id": "9b35a832-e63f-48b5-bcc6-2d016beb2e0f",
   "metadata": {},
   "source": [
    "Function for sperating true and false events (for spatial profile) and true and false correlations (for correlation histogram):"
   ]
  },
  {
   "cell_type": "code",
   "execution_count": 72,
   "id": "e5394c50-818b-4cfb-b712-211e93a7b539",
   "metadata": {},
   "outputs": [],
   "source": [
    "def matched_index(l1, l2):\n",
    "    l2 = set(l2)\n",
    "    return [i for i, el in enumerate(l1) if el in l2]"
   ]
  },
  {
   "cell_type": "code",
   "execution_count": 79,
   "id": "925b927f-e2d7-43fc-a577-17d023f647da",
   "metadata": {},
   "outputs": [],
   "source": [
    "def truefalse(cor_coeffs, cor_list, og_spikes, detected_spikes, trans_event_start):\n",
    "    \n",
    "    where_true = np.zeros(len(detected_spikes))\n",
    "    where_false = np.zeros(len(detected_spikes))\n",
    "    \n",
    "    \n",
    "    for k in range(len(detected_spikes)):\n",
    "        if (detected_spikes[k] == 1 and og_spikes[k]) or (detected_spikes[k] == 1 and og_spikes[k-15:k+15].any() == 1):\n",
    "            where_true[k] = 1\n",
    "        elif (detected_spikes[k] == 1 and og_spikes[k] != 1) or (detected_spikes[k] == 1 and og_spikes[k-15:k+15].any() != 1):\n",
    "            where_false[k] = 1\n",
    "         \n",
    "    where_true = np.array(np.where(where_true))\n",
    "    where_false = np.array(np.where(where_false))\n",
    "    cor_list = list(cor_list)\n",
    "    \n",
    "    len_true = len(where_true[0])\n",
    "    len_false = len(where_false[0])\n",
    "\n",
    "    where_true = where_true.reshape(1*len_true)\n",
    "    where_false = where_false.reshape(1*len_false)\n",
    "    \n",
    "    where_true = where_true.tolist()\n",
    "    where_false = where_false.tolist()\n",
    "    \n",
    "    true_intersects = matched_index(cor_list, where_true)\n",
    "    false_intersects = matched_index(cor_list, where_false)\n",
    "    \n",
    "    true_cor = []\n",
    "    for i in range(len(true_intersects)):\n",
    "        true_cor.append(cor_coeffs[true_intersects[i]])\n",
    "    \n",
    "    false_cor = []\n",
    "    for j in range(len(false_intersects)):\n",
    "        false_cor.append(cor_coeffs[false_intersects[j]])\n",
    "    \n",
    "    return where_true, where_false, true_intersects, false_intersects, true_cor, false_cor"
   ]
  },
  {
   "cell_type": "markdown",
   "id": "36b91e28-38fa-4a24-b377-454ecfe95672",
   "metadata": {},
   "source": [
    "Next we extract correlational coeffiecients from each transients."
   ]
  },
  {
   "cell_type": "code",
   "execution_count": 80,
   "id": "9ad5e261-a82c-4c55-8b74-60084276bd04",
   "metadata": {},
   "outputs": [],
   "source": [
    "where_true, where_false, true_indices, false_indices, true_cor, false_cor = truefalse(correlation_coefficients, correlation_indices, synthetic_spikes_a_dendrite, synthetic_dendritic_event, lista_lower)"
   ]
  },
  {
   "cell_type": "code",
   "execution_count": 81,
   "id": "7d2a728a-4b55-4383-b9d1-552b0c8797d0",
   "metadata": {},
   "outputs": [
    {
     "data": {
      "text/plain": [
       "36"
      ]
     },
     "execution_count": 81,
     "metadata": {},
     "output_type": "execute_result"
    }
   ],
   "source": [
    "len(false_cor)"
   ]
  },
  {
   "cell_type": "code",
   "execution_count": 82,
   "id": "058f7422-7b5c-409f-b16d-e7024b12811a",
   "metadata": {},
   "outputs": [],
   "source": [
    "np.save('dendrite_false.npy', false_cor)\n",
    "np.save('dendrite_true.npy', true_cor)"
   ]
  },
  {
   "cell_type": "code",
   "execution_count": 83,
   "id": "8305dfa8-fa56-4f27-b84b-944cfe0008a2",
   "metadata": {},
   "outputs": [
    {
     "data": {
      "image/png": "[encoded data removed]",
      "text/plain": [
       "<Figure size 1500x800 with 1 Axes>"
      ]
     },
     "metadata": {},
     "output_type": "display_data"
    }
   ],
   "source": [
    "f = plt.figure()\n",
    "f.set_figwidth(15)\n",
    "f.set_figheight(8)\n",
    "\n",
    "plt.hist(false_cor, bins = np.arange(0,1,0.01), alpha=0.5, label='False transients')\n",
    "plt.hist(true_cor, bins = np.arange(0,1,0.01), alpha=0.5, label='True transients')\n",
    "plt.legend(loc='upper right')\n",
    "plt.suptitle('Correlation of the source profiles and the transient profiles - A dendrite', fontsize=20)\n",
    "plt.xlabel('Correlation', fontsize = 15)\n",
    "plt.ylabel('Number of correlational coefficients', fontsize = 15)\n",
    "plt.savefig('transients/local_transients/dend_correlation_histogram.png')\n",
    "plt.xlim(0,1)\n",
    "plt.show()"
   ]
  },
  {
   "cell_type": "markdown",
   "id": "177003cc-f5c2-4e23-a60e-17e96bc7d1ad",
   "metadata": {},
   "source": [
    "Saving correlational coefficients of a certain soma or dendrite."
   ]
  },
  {
   "cell_type": "markdown",
   "id": "c512ee11-a47c-4b8b-8498-c8c1a0995408",
   "metadata": {},
   "source": [
    "Here we call the plot function with the specific details of a soma or the dendrite."
   ]
  },
  {
   "cell_type": "code",
   "execution_count": null,
   "id": "8f63bfd5-6a0b-4c9c-8f26-17b112b2cfb6",
   "metadata": {},
   "outputs": [],
   "source": [
    "#exceptions for manually reclassifying the false transients\n",
    "exception_list = true_indices"
   ]
  },
  {
   "cell_type": "code",
   "execution_count": null,
   "id": "a36b6010-4937-422e-aec9-9796d4f65406",
   "metadata": {},
   "outputs": [],
   "source": [
    "# magazine(asoma_expanded, synthetic_a_soma_signal_smooth, synthetic_movie, asomabase,\n",
    "#          lista_lower, lista_upper, synthetic_dF_a_soma, exception_list, pad_len, '{0}. A soma', 'transients/final_transients/a_soma_magazine.pdf') #{0}..."
   ]
  }
 ],
 "metadata": {
  "kernelspec": {
   "display_name": "Python 3",
   "language": "python",
   "name": "python3"
  },
  "language_info": {
   "codemirror_mode": {
    "name": "ipython",
    "version": 3
   },
   "file_extension": ".py",
   "mimetype": "text/x-python",
   "name": "python",
   "nbconvert_exporter": "python",
   "pygments_lexer": "ipython3",
   "version": "3.11.1"
  }
 },
 "nbformat": 4,
 "nbformat_minor": 5
}

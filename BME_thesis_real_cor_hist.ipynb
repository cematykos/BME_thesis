{
 "cells": [
  {
   "cell_type": "code",
   "execution_count": 45,
   "id": "ea1bf76f-563c-47b9-8d76-c146bab414e0",
   "metadata": {},
   "outputs": [],
   "source": [
    "import numpy as np\n",
    "import matplotlib.pyplot as plt"
   ]
  },
  {
   "cell_type": "code",
   "execution_count": 46,
   "id": "8bae0fd5-cd7c-406c-8368-47b53e645404",
   "metadata": {},
   "outputs": [],
   "source": [
    "af1 = np.load('1_seq_dend_1_falsecor.npy', allow_pickle = True)\n",
    "af2 = np.load('1_seq_dend_2_falsecor.npy', allow_pickle = True)\n",
    "af3 = np.load('1_seq_dend_3_falsecor.npy', allow_pickle = True)\n",
    "af4 = np.load('1_seq_dend_4_falsecor.npy', allow_pickle = True)\n",
    "af5 = np.load('1_seq_dend_5_falsecor.npy', allow_pickle = True)\n",
    "af6 = np.load('1_seq_dend_6_falsecor.npy', allow_pickle = True)\n",
    "\n",
    "at1 = np.load('1_seq_dend_1_truecor.npy', allow_pickle = True)\n",
    "at2 = np.load('1_seq_dend_2_truecor.npy', allow_pickle = True)\n",
    "at3 = np.load('1_seq_dend_3_truecor.npy', allow_pickle = True)\n",
    "at4 = np.load('1_seq_dend_4_truecor.npy', allow_pickle = True)\n",
    "at5 = np.load('1_seq_dend_5_truecor.npy', allow_pickle = True)\n",
    "at6 = np.load('1_seq_dend_6_truecor.npy', allow_pickle = True)\n",
    "\n",
    "ast1 = np.load('1_seq_soma_truecor.npy', allow_pickle = True)"
   ]
  },
  {
   "cell_type": "code",
   "execution_count": 47,
   "id": "cd0ea59b-fd1e-407e-ad25-4c4f1099cfc4",
   "metadata": {},
   "outputs": [],
   "source": [
    "bf1 = np.load('2_seq_dend_1_falsecor.npy', allow_pickle = True)\n",
    "bf2 = np.load('2_seq_dend_2_falsecor.npy', allow_pickle = True)\n",
    "bf3 = np.load('2_seq_dend_3_falsecor.npy', allow_pickle = True)\n",
    "bf4 = np.load('2_seq_dend_4_falsecor.npy', allow_pickle = True)\n",
    "bf5 = np.load('2_seq_dend_5_falsecor.npy', allow_pickle = True)\n",
    "bf6 = np.load('2_seq_dend_6_falsecor.npy', allow_pickle = True)\n",
    "\n",
    "bt1 = np.load('2_seq_dend_1_truecor.npy', allow_pickle = True)\n",
    "bt2 = np.load('2_seq_dend_2_truecor.npy', allow_pickle = True)\n",
    "bt3 = np.load('2_seq_dend_3_truecor.npy', allow_pickle = True)\n",
    "bt4 = np.load('2_seq_dend_4_truecor.npy', allow_pickle = True)\n",
    "bt5 = np.load('2_seq_dend_5_truecor.npy', allow_pickle = True)\n",
    "bt6 = np.load('2_seq_dend_6_truecor.npy', allow_pickle = True)\n",
    "\n",
    "bst1 = np.load('2_seq_soma_truecor.npy', allow_pickle = True)"
   ]
  },
  {
   "cell_type": "code",
   "execution_count": 48,
   "id": "2ccfc192-d3ac-4cce-a495-184023173b29",
   "metadata": {},
   "outputs": [],
   "source": [
    "cf1 = np.load('3_seq_dend_1_falsecor.npy', allow_pickle = True)\n",
    "cf2 = np.load('3_seq_dend_2_falsecor.npy', allow_pickle = True)\n",
    "cf3 = np.load('3_seq_dend_3_falsecor.npy', allow_pickle = True)\n",
    "cf4 = np.load('3_seq_dend_4_falsecor.npy', allow_pickle = True)\n",
    "cf5 = np.load('3_seq_dend_5_falsecor.npy', allow_pickle = True)\n",
    "cf6 = np.load('3_seq_dend_6_falsecor.npy', allow_pickle = True)\n",
    "\n",
    "ct1 = np.load('3_seq_dend_1_truecor.npy', allow_pickle = True)\n",
    "ct2 = np.load('3_seq_dend_2_truecor.npy', allow_pickle = True)\n",
    "ct3 = np.load('3_seq_dend_3_truecor.npy', allow_pickle = True)\n",
    "ct4 = np.load('3_seq_dend_4_truecor.npy', allow_pickle = True)\n",
    "ct5 = np.load('3_seq_dend_5_truecor.npy', allow_pickle = True)\n",
    "ct6 = np.load('3_seq_dend_6_truecor.npy', allow_pickle = True)\n",
    "\n",
    "cst1 = np.load('3_seq_soma_truecor.npy', allow_pickle = True)"
   ]
  },
  {
   "cell_type": "code",
   "execution_count": 49,
   "id": "df128743-730f-4f11-9623-7f32a75a871a",
   "metadata": {},
   "outputs": [],
   "source": [
    "df1 = np.load('4_seq_dend_1_falsecor.npy', allow_pickle = True)\n",
    "df2 = np.load('4_seq_dend_2_falsecor.npy', allow_pickle = True)\n",
    "df3 = np.load('4_seq_dend_3_falsecor.npy', allow_pickle = True)\n",
    "df4 = np.load('4_seq_dend_4_falsecor.npy', allow_pickle = True)\n",
    "df5 = np.load('4_seq_dend_5_falsecor.npy', allow_pickle = True)\n",
    "df6 = np.load('4_seq_dend_6_falsecor.npy', allow_pickle = True)\n",
    "\n",
    "dt1 = np.load('4_seq_dend_1_truecor.npy', allow_pickle = True)\n",
    "dt2 = np.load('4_seq_dend_2_truecor.npy', allow_pickle = True)\n",
    "dt3 = np.load('4_seq_dend_3_truecor.npy', allow_pickle = True)\n",
    "dt4 = np.load('4_seq_dend_4_truecor.npy', allow_pickle = True)\n",
    "dt5 = np.load('4_seq_dend_5_truecor.npy', allow_pickle = True)\n",
    "dt6 = np.load('4_seq_dend_6_truecor.npy', allow_pickle = True)\n",
    "\n",
    "dst1 = np.load('4_seq_soma_truecor.npy', allow_pickle = True)"
   ]
  },
  {
   "cell_type": "code",
   "execution_count": 50,
   "id": "9da9b426-71e7-41a3-9d30-7bab1214ade6",
   "metadata": {},
   "outputs": [],
   "source": [
    "ef1 = np.load('5_seq_dend_1_falsecor.npy', allow_pickle = True)\n",
    "ef2 = np.load('5_seq_dend_2_falsecor.npy', allow_pickle = True)\n",
    "ef3 = np.load('5_seq_dend_3_falsecor.npy', allow_pickle = True)\n",
    "ef4 = np.load('5_seq_dend_4_falsecor.npy', allow_pickle = True)\n",
    "ef5 = np.load('5_seq_dend_5_falsecor.npy', allow_pickle = True)\n",
    "ef6 = np.load('5_seq_dend_6_falsecor.npy', allow_pickle = True)\n",
    "\n",
    "et1 = np.load('5_seq_dend_1_truecor.npy', allow_pickle = True)\n",
    "et2 = np.load('5_seq_dend_2_truecor.npy', allow_pickle = True)\n",
    "et3 = np.load('5_seq_dend_3_truecor.npy', allow_pickle = True)\n",
    "et4 = np.load('5_seq_dend_4_truecor.npy', allow_pickle = True)\n",
    "et5 = np.load('5_seq_dend_5_truecor.npy', allow_pickle = True)\n",
    "et6 = np.load('5_seq_dend_6_truecor.npy', allow_pickle = True)\n",
    "\n",
    "est1 = np.load('5_seq_soma_truecor.npy', allow_pickle = True)"
   ]
  },
  {
   "cell_type": "code",
   "execution_count": 51,
   "id": "98c37167-2729-4d25-b62c-0dbc6d8bc157",
   "metadata": {},
   "outputs": [],
   "source": [
    "ff1 = np.load('6_seq_dend_1_falsecor.npy', allow_pickle = True)\n",
    "ff2 = np.load('6_seq_dend_2_falsecor.npy', allow_pickle = True)\n",
    "ff3 = np.load('6_seq_dend_3_falsecor.npy', allow_pickle = True)\n",
    "ff6 = np.load('6_seq_dend_6_falsecor.npy', allow_pickle = True)\n",
    "\n",
    "ft1 = np.load('6_seq_dend_1_truecor.npy', allow_pickle = True)\n",
    "ft2 = np.load('6_seq_dend_2_truecor.npy', allow_pickle = True)\n",
    "ft3 = np.load('6_seq_dend_3_truecor.npy', allow_pickle = True)\n",
    "ft6 = np.load('6_seq_dend_6_truecor.npy', allow_pickle = True)\n",
    "\n",
    "fst1 = np.load('6_seq_soma_truecor.npy', allow_pickle = True)"
   ]
  },
  {
   "cell_type": "code",
   "execution_count": 52,
   "id": "ec9e7854-f2fb-4aef-9234-29079a7298fd",
   "metadata": {},
   "outputs": [],
   "source": [
    "gf1 = np.load('7_seq_dend_1_falsecor.npy', allow_pickle = True)\n",
    "gf2 = np.load('7_seq_dend_2_falsecor.npy', allow_pickle = True)\n",
    "gf3 = np.load('7_seq_dend_3_falsecor.npy', allow_pickle = True)\n",
    "gf4 = np.load('7_seq_dend_4_falsecor.npy', allow_pickle = True)\n",
    "gf5 = np.load('7_seq_dend_5_falsecor.npy', allow_pickle = True)\n",
    "gf6 = np.load('7_seq_dend_6_falsecor.npy', allow_pickle = True)\n",
    "\n",
    "gt1 = np.load('7_seq_dend_1_truecor.npy', allow_pickle = True)\n",
    "gt2 = np.load('7_seq_dend_2_truecor.npy', allow_pickle = True)\n",
    "gt3 = np.load('7_seq_dend_3_truecor.npy', allow_pickle = True)\n",
    "gt4 = np.load('7_seq_dend_4_truecor.npy', allow_pickle = True)\n",
    "gt5 = np.load('7_seq_dend_5_truecor.npy', allow_pickle = True)\n",
    "gt6 = np.load('7_seq_dend_6_truecor.npy', allow_pickle = True)\n",
    "\n",
    "gst1 = np.load('7_seq_soma_truecor.npy', allow_pickle = True)"
   ]
  },
  {
   "cell_type": "code",
   "execution_count": 53,
   "id": "8f419333-8e3c-41a9-a9e0-a41fec0f7b8a",
   "metadata": {},
   "outputs": [],
   "source": [
    "# f = plt.figure()\n",
    "# f.set_figwidth(15)\n",
    "# f.set_figheight(8)\n",
    "\n",
    "# plt.hist(false, bins = np.arange(0,1,0.025), alpha=0.5, label='false transients')\n",
    "# plt.hist(true, bins = np.arange(0,1,0.025), alpha=0.5, label='true transients')\n",
    "# plt.legend(loc='upper right')\n",
    "# plt.suptitle('Correlation of true and false transients of \\n the ROI mask and the transient profiles in the 4th sequence ', fontsize=20)\n",
    "# plt.xlabel('Correlation', fontsize = 15)\n",
    "# plt.ylabel('Number of correlational coefficients', fontsize = 15)\n",
    "# plt.savefig('true_correlation_histogram.png')\n",
    "# plt.xlim(0.4,1)\n",
    "# plt.yticks(ticks = range(0,5,1))\n",
    "# plt.show()"
   ]
  },
  {
   "cell_type": "code",
   "execution_count": 54,
   "id": "0310914d-450f-4fed-8df8-60470ff5a75f",
   "metadata": {},
   "outputs": [],
   "source": [
    "somT = list(ast1) + list(bst1) + list(cst1) + list(dst1) + list(est1) + list(fst1) + list(gst1)\n",
    "somF = []\n",
    "\n",
    "dend1T = list(at1) + list(bt1) + list(ct1) + list(dt1) + list(et1) + list(ft1) + list(gt1)\n",
    "dend1F = list(af1) + list(bf1) + list(cf1) + list(df1) + list(ef1) + list(ff1) + list(gf1) \n",
    "\n",
    "dend2T = list(at2) + list(bt2) + list(ct2) + list(dt2) + list(et2) + list(ft2) + list(gt2)\n",
    "dend2F = list(af2) + list(bf2) + list(cf2) + list(df2) + list(ef2) + list(ff2) + list(gf2)  \n",
    "\n",
    "dend3T = list(at3) + list(bt3) + list(ct3) + list(dt3) + list(et3) + list(ft3) + list(gt3)\n",
    "dend3F = list(af3) + list(bf3) + list(cf3) + list(df3) + list(ef3) + list(ff3) + list(gf3)  \n",
    "\n",
    "dend4T = list(at4) + list(bt4) + list(ct4) + list(dt4) + list(et4) + list(gt4)\n",
    "dend4F = list(af4) + list(bf4) + list(cf4) + list(df4) + list(ef4) + list(gf4)  \n",
    "\n",
    "dend5T = list(at5) + list(bt5) + list(ct5) + list(dt5) + list(et5) + list(gt5)\n",
    "dend5F = list(af5) + list(bf5) + list(cf5) + list(df5) + list(ef5) + list(gf5)  \n",
    "\n",
    "dend6T = list(at6) + list(bt6) + list(ct6) + list(dt6) + list(et6) + list(ft6) + list(gt6)\n",
    "dend6F = list(af6) + list(bf6) + list(cf6) + list(df6) + list(ef6) + list(ff6) + list(gf6)                           "
   ]
  },
  {
   "cell_type": "code",
   "execution_count": 55,
   "id": "0b63f2a5-1c77-494a-8dca-4f4c6e5dce9a",
   "metadata": {},
   "outputs": [
    {
     "data": {
      "text/plain": [
       "0.575"
      ]
     },
     "execution_count": 55,
     "metadata": {},
     "output_type": "execute_result"
    }
   ],
   "source": [
    "min(dend4T)"
   ]
  },
  {
   "cell_type": "code",
   "execution_count": 56,
   "id": "2c58bed3-c815-4ad6-9737-40badcaa3685",
   "metadata": {},
   "outputs": [
    {
     "data": {
      "text/plain": [
       "0.528"
      ]
     },
     "execution_count": 56,
     "metadata": {},
     "output_type": "execute_result"
    }
   ],
   "source": [
    "max(dend4F)"
   ]
  },
  {
   "cell_type": "code",
   "execution_count": 57,
   "id": "1c1b3afb-79f5-4bce-bfa6-d5bf93db1a85",
   "metadata": {},
   "outputs": [
    {
     "data": {
      "text/plain": [
       "8"
      ]
     },
     "execution_count": 57,
     "metadata": {},
     "output_type": "execute_result"
    }
   ],
   "source": [
    "sumfalse = dend1F + dend2F + dend3F + dend4F + dend5F + dend6F\n",
    "len(sumfalse)"
   ]
  },
  {
   "cell_type": "code",
   "execution_count": 59,
   "id": "523a3df4-5b3c-4047-8a8c-520bb3459855",
   "metadata": {},
   "outputs": [
    {
     "data": {
      "text/plain": [
       "[0.503, 0.495, 0.499, 0.007, 0.508, 0.528, 0.451, 0.313]"
      ]
     },
     "execution_count": 59,
     "metadata": {},
     "output_type": "execute_result"
    }
   ],
   "source": [
    "sumfalse"
   ]
  },
  {
   "cell_type": "code",
   "execution_count": 63,
   "id": "e32fc441-56dd-4d41-ad9e-13dbbe75cc8f",
   "metadata": {},
   "outputs": [
    {
     "data": {
      "text/plain": [
       "Text(0.5, 0.98, 'Correlation of the source profiles and the transient profiles')"
      ]
     },
     "execution_count": 63,
     "metadata": {},
     "output_type": "execute_result"
    },
    {
     "data": {
      "image/png": "[encoded data removed]",
      "text/plain": [
       "<Figure size 1200x600 with 7 Axes>"
      ]
     },
     "metadata": {},
     "output_type": "display_data"
    }
   ],
   "source": [
    "fig = plt.figure(figsize=(12, 6))\n",
    "\n",
    "rows = 2\n",
    "columns = 4\n",
    "\n",
    "plt.subplots_adjust(hspace=0.6)\n",
    "plt.subplots_adjust(wspace=0.65)\n",
    "\n",
    "#1\n",
    "fig.add_subplot(rows, columns, 1)\n",
    "plt.hist(somF, bins = np.arange(0,1,0.015), alpha=0.5)\n",
    "plt.hist(somT, bins = np.arange(0,1,0.015), alpha=0.5)\n",
    "plt.xlabel('Correlation', fontsize = 10)\n",
    "plt.ylabel('Number of \\n corr. coeffs.', fontsize = 10)\n",
    "plt.title('Soma - 0. ROI', fontsize = 10)\n",
    "plt.xlim(0.25,1)\n",
    "\n",
    "#2\n",
    "fig.add_subplot(rows, columns, 2)\n",
    "plt.hist(dend1F, bins = np.arange(0,1,0.015), alpha=0.5)\n",
    "plt.hist(dend1T, bins = np.arange(0,1,0.015), alpha=0.5)\n",
    "plt.xlabel('Correlation', fontsize = 10)\n",
    "plt.ylabel('Number of \\n corr. coeffs.', fontsize = 10)\n",
    "plt.title('Dendrite - 1. ROI', fontsize = 10)\n",
    "plt.xlim(0.4,1)\n",
    "\n",
    "#3\n",
    "fig.add_subplot(rows, columns, 3)\n",
    "plt.hist(dend2F, bins = np.arange(0,1,0.015), alpha=0.5)\n",
    "plt.hist(dend2T, bins = np.arange(0,1,0.015), alpha=0.5)\n",
    "plt.xlabel('Correlation', fontsize = 10)\n",
    "plt.ylabel('Number of \\n corr. coeffs.', fontsize = 10)\n",
    "plt.title('Dendrite - 2. ROI', fontsize = 10)\n",
    "plt.xlim(0.4,1)\n",
    "\n",
    "#4\n",
    "fig.add_subplot(rows, columns, 4)\n",
    "plt.hist(dend3F, bins = np.arange(0,1,0.015), alpha=0.5)\n",
    "plt.hist(dend3T, bins = np.arange(0,1,0.015), alpha=0.5)\n",
    "plt.xlabel('Correlation', fontsize = 10)\n",
    "plt.ylabel('Number of \\n corr. coeffs.', fontsize = 10)\n",
    "plt.title('Dendrite - 3. ROI', fontsize = 10)\n",
    "plt.xlim(0.4,1)\n",
    "\n",
    "#5\n",
    "fig.add_subplot(rows, columns, 5)\n",
    "plt.hist(dend4F, bins = np.arange(0,1,0.015), alpha=0.5)\n",
    "plt.hist(dend4T, bins = np.arange(0,1,0.015), alpha=0.5)\n",
    "plt.xlabel('Correlation', fontsize = 10)\n",
    "plt.ylabel('Number of \\n corr. coeffs.', fontsize = 10)\n",
    "plt.title('Dendrite - 4. ROI', fontsize = 10)\n",
    "plt.xlim(0.4,1)\n",
    "\n",
    "#6\n",
    "fig.add_subplot(rows, columns, 6)\n",
    "plt.hist(dend5F, bins = np.arange(0,1,0.015), alpha=0.5)\n",
    "plt.hist(dend5T, bins = np.arange(0,1,0.015), alpha=0.5)\n",
    "plt.xlabel('Correlation', fontsize = 10)\n",
    "plt.ylabel('Number of \\n corr. coeffs.', fontsize = 10)\n",
    "plt.title('Dendrite - 5. ROI', fontsize = 10)\n",
    "plt.xlim(0.4,1)\n",
    "\n",
    "#7\n",
    "fig.add_subplot(rows, columns, 7)\n",
    "plt.hist(dend6F, bins = np.arange(0,1,0.025), alpha=0.5)\n",
    "plt.hist(dend6T, bins = np.arange(0,1,0.025), alpha=0.5)\n",
    "plt.xlabel('Correlation', fontsize = 10)\n",
    "plt.ylabel('Number of \\n corr. coeffs.', fontsize = 10)\n",
    "plt.title('Dendrite - 6. ROI', fontsize = 10)\n",
    "\n",
    "fig.legend(('false transients', 'true transients'), loc = 'upper right', fontsize=8)\n",
    "\n",
    "plt.suptitle('Correlation of the source profiles and the transient profiles', fontsize=15, fontweight = 'bold')"
   ]
  }
 ],
 "metadata": {
  "kernelspec": {
   "display_name": "Python 3",
   "language": "python",
   "name": "python3"
  },
  "language_info": {
   "codemirror_mode": {
    "name": "ipython",
    "version": 3
   },
   "file_extension": ".py",
   "mimetype": "text/x-python",
   "name": "python",
   "nbconvert_exporter": "python",
   "pygments_lexer": "ipython3",
   "version": "3.11.1"
  }
 },
 "nbformat": 4,
 "nbformat_minor": 5
}

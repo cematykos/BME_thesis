{
 "cells": [
  {
   "cell_type": "code",
   "execution_count": 160,
   "id": "89d7a6f7-c3bf-44bd-8970-ecb12b1e99b2",
   "metadata": {},
   "outputs": [],
   "source": [
    "#packages\n",
    "import numpy as np\n",
    "import numpy.ma as ma\n",
    "import sys\n",
    "import os\n",
    "import shapely\n",
    "import scipy \n",
    "\n",
    "from scipy import signal\n",
    "from skimage.draw import polygon2mask\n",
    "from shapely import Polygon\n",
    "from shapely import affinity\n",
    "from matplotlib import pyplot as plt\n",
    "from shapely.geometry.polygon import Polygon\n",
    "from PIL import Image\n",
    "from matplotlib.backends.backend_pdf import PdfPages"
   ]
  },
  {
   "cell_type": "markdown",
   "id": "b0a266f9-98c8-4491-b59c-50fe7fc646f0",
   "metadata": {},
   "source": [
    "Load data:"
   ]
  },
  {
   "cell_type": "code",
   "execution_count": 161,
   "id": "5cdfc83c-c695-44a4-a2fb-d2c65dc3c7df",
   "metadata": {},
   "outputs": [],
   "source": [
    "suite2p_folder = 'C:/Users/Tóth Mátyás/Desktop/szakdolgozat/example_dendriric recording_numpy'\n",
    "cell = 'c1'\n",
    "numbers = [0,1,2,3,4,5,6]"
   ]
  },
  {
   "cell_type": "code",
   "execution_count": 162,
   "id": "86f034fb-930f-42e2-95cf-2ff05154d8ae",
   "metadata": {},
   "outputs": [],
   "source": [
    "imgs = np.load('C:/Users/Tóth Mátyás/Desktop/szakdolgozat/example_dendriric recording_numpy/plane0/4.npy')\n",
    "polygons = np.load('C:/Users/Tóth Mátyás/Desktop/szakdolgozat/example_dendriric recording_numpy/plane0/c1/polygons.npy', allow_pickle = True)\n",
    "roi_masks = np.load('C:/Users/Tóth Mátyás/Desktop/szakdolgozat/example_dendriric recording_numpy/c1/masks.npy', allow_pickle = True)\n",
    "\n",
    "masks = np.load(suite2p_folder + '/plane0/mean_img.npy', allow_pickle=True)\n",
    "\n",
    "prop_cycle = plt.rcParams['axes.prop_cycle']\n",
    "colors = prop_cycle.by_key()['color']"
   ]
  },
  {
   "cell_type": "markdown",
   "id": "44f6677f-7e5c-4300-8d26-d709e9f89bb3",
   "metadata": {},
   "source": [
    "Also, load preprocessed data from an earliear phase of the research:"
   ]
  },
  {
   "cell_type": "code",
   "execution_count": 163,
   "id": "ec42dc89-90cd-450b-99db-34a4d517d931",
   "metadata": {},
   "outputs": [],
   "source": [
    "sm0 = np.load('Asmooth1.npy', allow_pickle = True)\n",
    "sm1 = np.load('Asmooth2.npy', allow_pickle = True)\n",
    "sm2 = np.load('Asmooth3.npy', allow_pickle = True)\n",
    "sm3 = np.load('Asmooth4.npy', allow_pickle = True)\n",
    "sm4 = np.load('Asmooth5.npy', allow_pickle = True)\n",
    "sm5 = np.load('Asmooth6.npy', allow_pickle = True)\n",
    "sm6 = np.load('Asmooth7.npy', allow_pickle = True)\n",
    "\n",
    "ev0 = np.load('Aevent1.npy', allow_pickle = True)\n",
    "ev1 = np.load('Aevent2.npy', allow_pickle = True)\n",
    "ev2 = np.load('Aevent3.npy', allow_pickle = True)\n",
    "ev3 = np.load('Aevent4.npy', allow_pickle = True)\n",
    "ev4 = np.load('Aevent5.npy', allow_pickle = True)\n",
    "ev5 = np.load('Aevent6.npy', allow_pickle = True)\n",
    "ev6 = np.load('Aevent7.npy', allow_pickle = True)"
   ]
  },
  {
   "cell_type": "markdown",
   "id": "73595bd1-2061-42cf-9817-a209c0057527",
   "metadata": {},
   "source": [
    "Pad the signals:"
   ]
  },
  {
   "cell_type": "code",
   "execution_count": 164,
   "id": "6d9f6f08-6612-430e-9f6e-6d0fcb9e6f4d",
   "metadata": {},
   "outputs": [],
   "source": [
    "pad_signal = np.zeros(50)\n",
    "sm0 = np.append(sm0, pad_signal)\n",
    "sm1 = np.append(sm1, pad_signal)\n",
    "sm2 = np.append(sm2, pad_signal)\n",
    "sm3 = np.append(sm3, pad_signal)\n",
    "sm4 = np.append(sm4, pad_signal)\n",
    "sm5 = np.append(sm5, pad_signal)\n",
    "sm6 = np.append(sm6, pad_signal)"
   ]
  },
  {
   "cell_type": "code",
   "execution_count": 165,
   "id": "9eb25c9a-8d17-47df-8c49-959155cc28d0",
   "metadata": {},
   "outputs": [],
   "source": [
    "pad_len = 25\n",
    "zero_pad_array = 512*512*pad_len\n",
    "pad_dF = np.zeros(zero_pad_array)\n",
    "pad_dF = pad_dF.reshape(pad_len,512,512)\n",
    "imgs = np.append(imgs, pad_dF, axis=0)\n",
    "movie_data = imgs.copy()"
   ]
  },
  {
   "cell_type": "code",
   "execution_count": 166,
   "id": "73328876-c11c-4c7e-b8af-32c57d9481b6",
   "metadata": {},
   "outputs": [],
   "source": [
    "# def bufferize(mask, distance = 25):\n",
    "#     mask = Polygon(mask)\n",
    "#     mask_exp = mask.buffer(distance)\n",
    "#     mask_exp_list = list(mask_exp.exterior.coords)\n",
    "#     mask_nparray = np.array(np.round(mask_exp_list))\n",
    "#     return mask_nparray.astype(int)"
   ]
  },
  {
   "cell_type": "markdown",
   "id": "05fafcec-bd18-4a05-95e4-d0177ba09af8",
   "metadata": {},
   "source": [
    "Create bigger ROIs and implement the event detection function:"
   ]
  },
  {
   "cell_type": "code",
   "execution_count": 167,
   "id": "c0dec164-ed5f-4ea7-b1ed-5863ac6f51eb",
   "metadata": {},
   "outputs": [],
   "source": [
    "def roi_mask_expander(roi, d = 2):\n",
    "    \n",
    "    roi = list(roi)\n",
    "    np.unique(np.array(roi), axis = 0)\n",
    "    \n",
    "    for i in np.arange(len(roi)):\n",
    "        x = roi[i][0]\n",
    "        y = roi[i][1]\n",
    "        roi.append([x+d,y])\n",
    "        roi.append([x-d,y])\n",
    "        roi.append([x,y+d])\n",
    "        roi.append([x,y-d])\n",
    "          \n",
    "    new_roi = np.unique(np.array(roi), axis=0)\n",
    "    \n",
    "    return new_roi"
   ]
  },
  {
   "cell_type": "code",
   "execution_count": 168,
   "id": "5f57bc9c-2f0f-4a89-93a6-0d028553cdfa",
   "metadata": {},
   "outputs": [],
   "source": [
    "prof0 = roi_mask_expander(roi_masks[0],6) #soma\n",
    "prof1 = roi_mask_expander(roi_masks[1],5)\n",
    "prof2 = roi_mask_expander(roi_masks[2],5)\n",
    "prof3 = roi_mask_expander(roi_masks[3],5)\n",
    "prof4 = roi_mask_expander(roi_masks[4],5)\n",
    "prof5 = roi_mask_expander(roi_masks[5],5)\n",
    "prof6 = roi_mask_expander(roi_masks[6],5)"
   ]
  },
  {
   "cell_type": "markdown",
   "id": "09f76eec-1b4d-4882-82f9-373c7b971f8a",
   "metadata": {},
   "source": [
    "Event detection function:"
   ]
  },
  {
   "cell_type": "code",
   "execution_count": 169,
   "id": "ca69d27b-b29a-4e9d-96a4-a5f77d9ec455",
   "metadata": {},
   "outputs": [],
   "source": [
    "def event_detector(signal, theta_upper = 1.65, theta_lower = 1.6): \n",
    "    \n",
    "    N = len(signal)\n",
    "    \n",
    "    event = np.zeros(N)\n",
    "    transient = np.zeros(N)\n",
    "    start_end = []\n",
    "    \n",
    "    refr = 0\n",
    "    start_end_i = np.zeros(2)\n",
    "    \n",
    "    for i in np.arange(1,N):\n",
    "        if ((signal[i] > theta_upper) and (signal[i-1] < theta_upper) and (refr == 0)):\n",
    "            event[i] = 1 \n",
    "            refr = 1\n",
    "            start_end_i[0] = i\n",
    "        if ((signal[i]<theta_lower) and (signal[i-1]>theta_lower) and (refr == 1)):\n",
    "            refr = 0\n",
    "            start_end_i[1] = i\n",
    "            start_end.append(start_end_i)\n",
    "            start_end_i = np.zeros(2)\n",
    "        if (refr == 1):\n",
    "            transient[i] = 1\n",
    "    if ((start_end_i[0] > 0) & (start_end_i[1] == 0)):\n",
    "        start_end_i[1] = N\n",
    "        start_end.append(start_end_i)\n",
    "    \n",
    "    return event, transient, start_end"
   ]
  },
  {
   "cell_type": "markdown",
   "id": "d9d82a68-c1fe-45cb-97d8-efaf9b8e89e7",
   "metadata": {},
   "source": [
    "## Here we specifiy the threshold of the detected transient event:"
   ]
  },
  {
   "cell_type": "code",
   "execution_count": 170,
   "id": "b81cc551-d222-4208-a09c-87e47ba83fff",
   "metadata": {},
   "outputs": [],
   "source": [
    "# sig1_event = event_detector(signal1_smooth, 0.08, 0.007) # 1st. 0.08\n",
    "# sig2_event = event_detector(signal2_smooth, 0.12, 0.01) #1st 0.15\n",
    "# sig3_event = event_detector(signal3_smooth, 0.2, 0.007) #1st 0.25\n",
    "# sig4_event = event_detector(signal4_smooth, 0.1, 0.05) #1st 0.15\n",
    "# sig5_event = event_detector(signal5_smooth, 0.12, 0.001)\n",
    "# sig6_event = event_detector(signal6_smooth, 0.2, 0.005)\n",
    "# sig7_event = event_detector(signal7_smooth, 0.1, 0.005)"
   ]
  },
  {
   "cell_type": "code",
   "execution_count": 171,
   "id": "6967ec52-c55b-4294-aa51-ccb6890370cd",
   "metadata": {},
   "outputs": [],
   "source": [
    "#detect the events\n",
    "soma_signal = sm0\n",
    "actual_signal = sm3\n",
    "\n",
    "threshold_upper = 0.1\n",
    "threshold_lower = 0.05\n",
    "\n",
    "# soma_event, soma_transient, soma_start_end = event_detector(soma_signal, threshold_upper, threshold_lower)\n",
    "event, transient, start_end = event_detector(actual_signal, threshold_upper, threshold_lower)"
   ]
  },
  {
   "cell_type": "code",
   "execution_count": 172,
   "id": "361ee4b0-60ee-4179-b184-972ed33eab4a",
   "metadata": {},
   "outputs": [],
   "source": [
    "#uncomment the relevant compartment!\n",
    "\n",
    "# soma_lista_lower = np.array(soma_start_end)[:,0].astype(int)\n",
    "# soma_lista_upper = np.array(soma_start_end)[:,1].astype(int)\n",
    "\n",
    "lista_lower = np.array(start_end)[:,0].astype(int)\n",
    "lista_upper = np.array(start_end)[:,1].astype(int)"
   ]
  },
  {
   "cell_type": "code",
   "execution_count": 173,
   "id": "4122c12c-8a1d-4056-bff2-d7093e56d872",
   "metadata": {},
   "outputs": [],
   "source": [
    "#save the begining of transient event indexes if needed!\n",
    "\n",
    "# soma_list_lower_save = np.save('soma_list_lower', soma_list_lower)\n",
    "\n",
    "# dend_list_lower_save1 = np.save('dend_list_lower1', list_lower)\n",
    "# dend_list_lower_save2 = np.save('dend_list_lower2', list_lower)\n",
    "# dend_list_lower_save3 = np.save('dend_list_lower3', list_lower)\n",
    "# dend_list_lower_save4 = np.save('dend_list_lower4', list_lower)\n",
    "# dend_list_lower_save5 = np.save('dend_list_lower5', list_lower)\n",
    "# dend_list_lower_save6 = np.save('dend_list_lower6', list_lower)"
   ]
  },
  {
   "cell_type": "markdown",
   "id": "f32010ad-d99a-4c0c-abf4-9a19d073f75c",
   "metadata": {},
   "source": [
    "Functions for generating transient profiles and for create a pdf file for all the transient profiles of the selected neural compartment:"
   ]
  },
  {
   "cell_type": "code",
   "execution_count": 174,
   "id": "674b9560-0a03-49f2-90ff-89270fe42115",
   "metadata": {},
   "outputs": [],
   "source": [
    "def transient_profile(transient_signal, movie_tensor, base_pic, start = 1, finish = 1):\n",
    "    \n",
    "    if finish >= len(transient_signal)-1:\n",
    "        finish = len(transient_signal)-6\n",
    "    \n",
    "    index = np.arange(start-5, finish+5)\n",
    "    index_len = np.arange(0,len(index),1)\n",
    "    transient = transient_signal[index]\n",
    "    movie_tensor = movie_tensor[index,:,:]\n",
    "    W = transient[:, np.newaxis, np.newaxis] * movie_tensor #weighted_frames\n",
    "    transient_pic = np.sum(W[index_len,:,:],axis=0)\n",
    "    normalized_trans_pic = transient_pic/sum(transient**2)\n",
    "    trans = normalized_trans_pic\n",
    "    return trans"
   ]
  },
  {
   "cell_type": "markdown",
   "id": "7833819d-adbf-40a5-92a2-d8892d2d7981",
   "metadata": {},
   "source": [
    "Some preprocess:"
   ]
  },
  {
   "cell_type": "code",
   "execution_count": 175,
   "id": "60ef7959-25e2-4f10-94df-d0ef54b0aa7b",
   "metadata": {},
   "outputs": [],
   "source": [
    "# if lista_lower[0] < 6:\n",
    "#     lista_lower[0] = 6"
   ]
  },
  {
   "cell_type": "markdown",
   "id": "0c180831-2255-4761-88cf-85540d0506e1",
   "metadata": {},
   "source": [
    "Xlim and Ylim source profile window coordinates for plotting a unique transient profile each compartment:"
   ]
  },
  {
   "cell_type": "code",
   "execution_count": 176,
   "id": "e8a29228-29a0-448b-bed5-c1541c2d126c",
   "metadata": {},
   "outputs": [],
   "source": [
    "xmin_soma, xmax_soma = 300, 400 # it is inverted, so we need to give inverted coordinates\n",
    "ymin_soma, ymax_soma = 500, 400"
   ]
  },
  {
   "cell_type": "code",
   "execution_count": 177,
   "id": "ef668443-2296-49dd-a408-af62ac262839",
   "metadata": {},
   "outputs": [],
   "source": [
    "\n",
    "xminROI1, xmaxROI1 = 390, 460\n",
    "yminROI1, ymaxROI1 = 320, 230\n",
    "\n",
    "xminROI2, xmaxROI2 = 335, 365 \n",
    "yminROI2, ymaxROI2 = 300, 250\n",
    "\n",
    "xminROI3, xmaxROI3 = 430, 500\n",
    "yminROI3, ymaxROI3 = 250, 160\n",
    "\n",
    "xminROI4, xmaxROI4 = 350, 400\n",
    "yminROI4, ymaxROI4 = 260, 200\n",
    "\n",
    "xminROI5, xmaxROI5 = 330, 355\n",
    "yminROI5, ymaxROI5 = 280, 220\n",
    "\n",
    "xminROI6, xmaxROI6 = 330, 370 \n",
    "yminROI6, ymaxROI6 = 260, 130"
   ]
  },
  {
   "cell_type": "markdown",
   "id": "c48ee841-bd05-4f8e-91f5-8ed6466fc333",
   "metadata": {},
   "source": [
    "Set the time - which sequence are we in."
   ]
  },
  {
   "cell_type": "code",
   "execution_count": 178,
   "id": "af9fbd12-c80f-4dda-8c7a-011d54ef25dc",
   "metadata": {},
   "outputs": [],
   "source": [
    "# which sequence - 1\n",
    "\n",
    "which_sequence = 4"
   ]
  },
  {
   "cell_type": "markdown",
   "id": "4bff09c0-90d6-46ea-94b7-3dd072215f17",
   "metadata": {},
   "source": [
    "Transient profile creation function for the soma:"
   ]
  },
  {
   "cell_type": "code",
   "execution_count": 179,
   "id": "e0292c7c-7ab3-425e-ba0c-7e36bd83e3de",
   "metadata": {},
   "outputs": [],
   "source": [
    "def show_profiles_soma(prof_mask, signal_smooth, event, sp, bp, index_start,\n",
    "    index_stop, xone, xtwo, yone, ytwo, want, offset = 50, \n",
    "    og_poly_number = 0, w_seq = 4, title = '{0}. somatic transient', soma_title = '', name=''):\n",
    "    \n",
    "    l = len(index_start)\n",
    "    for i in range(l):\n",
    "        \n",
    "        trans = transient_profile(signal_smooth, sp, bp, index_start[i], index_stop[i])\n",
    "        \n",
    "        # polygons =  np.load(suite2p_folder + '/plane0/' + str(cell) + '/polygons.npy', allow_pickle=True)\n",
    "        # poly_points = polygons[og_poly_number]\n",
    "        # poly_points = polygon\n",
    "        # polygon_shape = Polygon(polygon)\n",
    "        # original_polygon = polygon_shape.exterior.xy\n",
    "      \n",
    "        buffered_mask = np.array(prof_mask)\n",
    "        mask = polygon2mask(trans.shape, buffered_mask)\n",
    "        result = ma.masked_array(trans, np.invert(mask))\n",
    "        \n",
    "        base_result = ma.masked_array(bp, np.invert(mask))\n",
    "        \n",
    "        x_var = trans[tuple(prof_mask.T)].tolist()\n",
    "        y_var = bp[tuple(prof_mask.T)].tolist()\n",
    "        cor = np.round(np.corrcoef(x_var, y_var)[0][1], 3)\n",
    "        \n",
    "        \n",
    "        interval_min = offset\n",
    "        \n",
    "        if index_start[0] == 6:\n",
    "             interval_min[0] = 1\n",
    "                \n",
    "        if signal_smooth[index_start[i]+2] > 2:\n",
    "            interval_min = offset +20\n",
    "        else:\n",
    "            interval_min = offset\n",
    "            \n",
    "        interval_max = interval_min + (index_stop[i]-index_start[i]) + 1\n",
    "    \n",
    "        #time scale parameters\n",
    "        len_signal = len(signal_smooth)\n",
    "        len_signal = len_signal*w_seq\n",
    "        current = 112*w_seq\n",
    "        time_len_s = round(current/len_signal,2)\n",
    "        start_point = index_start[i]-offset\n",
    "        start_point = start_point+len_signal\n",
    "        end_point = index_stop[i]+offset\n",
    "        end_point = end_point+len_signal\n",
    "        time_interval = round((end_point-start_point)/5)\n",
    "        lbls = [i*time_len_s for i in list(range(start_point, end_point, time_interval))] #start_point\n",
    "        lbls = [round(num, 1) for num in lbls]\n",
    "        tcks = list(range(0, end_point-start_point, time_interval))\n",
    "        \n",
    "        fig = plt.figure(i)\n",
    "        fig.set_figheight(12)\n",
    "        fig.set_figwidth(16)\n",
    "        \n",
    "        plt.subplots_adjust(wspace=0.1)\n",
    "        plt.subplots_adjust(hspace=0.8)\n",
    "        \n",
    "        rows = 2\n",
    "        columns = 3\n",
    "        \n",
    "        fig.add_subplot(rows, columns, 1)\n",
    "        plt.imshow(bp)\n",
    "        flipped_polygon = np.flip(prof_mask, axis=None)\n",
    "        flipped_ud_polygon = np.flipud(flipped_polygon)\n",
    "        polygon = Polygon(flipped_ud_polygon)\n",
    "        poly_points = polygon.buffer(0.7, join_style=3)\n",
    "        polygon_shape = Polygon(poly_points)\n",
    "        plt.plot(*polygon_shape.exterior.xy, color=colors[og_poly_number])\n",
    "        plt.title('A - Total view \\n (mean image)', fontsize=20)\n",
    "        plt.axis('off')\n",
    "        \n",
    "        fig.add_subplot(rows, columns, 2)\n",
    "        plt.imshow(base_result)\n",
    "        plt.xlim(xone, xtwo)\n",
    "        plt.ylim(yone, ytwo)\n",
    "        plt.title('B - Source profile \\n (mean image)', fontsize=20)\n",
    "        plt.axis('off')\n",
    "        \n",
    "        ax = fig.add_subplot(rows, columns, 3)\n",
    "        ax.imshow(result)\n",
    "        # plt.plot(*original_polygon, 'r')\n",
    "        plt.xlim(xone, xtwo)\n",
    "        plt.ylim(yone, ytwo)\n",
    "        plt.title('C - Transient profile \\n r = {0}'.format(cor), fontsize=20)\n",
    "        plt.xticks(color = 'w')\n",
    "        plt.yticks(color = 'w')\n",
    "        \n",
    "        want = want\n",
    "        want_i = [index_start[k] for k in want]\n",
    "        \n",
    "        color = \"white\" if index_start[i] in want_i else \"red\"\n",
    "        for x in [\"top\",\"left\",\"right\",\"bottom\"]:\n",
    "            ax.spines[x].set_color(color)\n",
    "            ax.spines[x].set_linewidth(8)\n",
    "        \n",
    "        fig.add_subplot(rows, columns, 4)\n",
    "        plt.plot(signal_smooth[index_start[i]-offset:index_stop[i]+offset], 'k')\n",
    "        plt.title(soma_title, fontsize=20)\n",
    "        plt.ylim([-0.5, 2])\n",
    "        plt.xlabel('Time (s)', fontsize = 15)\n",
    "        plt.ylabel('Amplitude', fontsize = 15)\n",
    "        plt.xticks(ticks = tcks, labels = lbls, fontsize = 15)\n",
    "        plt.yticks(fontsize = 15)\n",
    "        plt.axvspan(interval_min, interval_max, color='moccasin', alpha=0.7)\n",
    "        \n",
    "        title_num = 1\n",
    "        title_num = title_num + i\n",
    "        \n",
    "        fig.suptitle(title.format(title_num), fontsize=20, weight = 'bold')\n",
    "        \n",
    "        pdf_pages = len(index_stop)\n",
    "        \n",
    "        with PdfPages(name) as pdf:\n",
    "            for fig in range(pdf_pages):\n",
    "                plt.figure(fig)\n",
    "                pdf.savefig(bbox_inches=\"tight\")"
   ]
  },
  {
   "cell_type": "markdown",
   "id": "7f8ef719-5316-429d-a1f8-ceef20aee48a",
   "metadata": {},
   "source": [
    "Transient profile creation function for the dendrite:"
   ]
  },
  {
   "cell_type": "code",
   "execution_count": 180,
   "id": "4cd928eb-2b80-4ef7-bcc5-390330a4dcf2",
   "metadata": {},
   "outputs": [],
   "source": [
    "def show_profiles_dendrites(prof_mask, soma_signal_smooth, dendrite_signal_smooth, soma_event, dendrite_event, sp, bp, index_start,\n",
    "    index_stop, xone, xtwo, yone, ytwo, want, offset = 50, og_poly_number = 0, w_seq = 4,\n",
    "    title = '{0}. dendritic transient', soma_title ='', dendrite_title = '', name= ''):\n",
    "    \n",
    "    l = len(index_start)\n",
    "    for i in range(l):\n",
    "        \n",
    "        trans = transient_profile(dendrite_signal_smooth, sp, bp, index_start[i], index_stop[i])\n",
    "        \n",
    "        # polygons =  np.load(suite2p_folder + '/plane0/' + str(cell) + '/polygons.npy', allow_pickle=True)\n",
    "        # poly_points = polygons[og_poly_number]\n",
    "        # poly_points = polygon\n",
    "        # polygon_shape = Polygon(poly_points)\n",
    "        # original_polygon = polygon_shape.exterior.xy\n",
    "        # prop_cycle = plt.rcParams['axes.prop_cycle']\n",
    "        # colors = prop_cycle.by_key()['color']\n",
    "      \n",
    "        buffered_mask = np.array(prof_mask)\n",
    "        mask = polygon2mask(trans.shape, buffered_mask)\n",
    "        result = ma.masked_array(trans, np.invert(mask))\n",
    "        \n",
    "        base_result = ma.masked_array(bp, np.invert(mask))\n",
    "        \n",
    "        x_var = trans[tuple(prof_mask.T)].tolist()\n",
    "        y_var = bp[tuple(prof_mask.T)].tolist()\n",
    "        cor = np.round(np.corrcoef(x_var, y_var)[0][1], 3)\n",
    "        \n",
    "        interval_min = offset\n",
    "        \n",
    "        if index_start[0] == 6:\n",
    "             interval_min = 1\n",
    "        \n",
    "        if dendrite_signal_smooth[index_start[i]+2] > 2:\n",
    "            interval_min = offset + 20\n",
    "        else:\n",
    "            interval_min = offset\n",
    "            \n",
    "        interval_max = interval_min + (index_stop[i]-index_start[i]) + 1\n",
    "        \n",
    "        #time-scale parameters\n",
    "        len_signal = len(dendrite_signal_smooth)\n",
    "        len_signal = len_signal*w_seq\n",
    "        current = 112*w_seq\n",
    "        time_len_s = round(current/len_signal,2)\n",
    "        start_point = index_start[i]-offset\n",
    "        start_point = start_point+len_signal\n",
    "        end_point = index_stop[i]+offset\n",
    "        end_point = end_point+len_signal\n",
    "        time_interval = round((end_point-start_point)/5)\n",
    "        lbls = [i*time_len_s for i in list(range(start_point, end_point, time_interval))] #start_point\n",
    "        lbls = [round(num, 1) for num in lbls]\n",
    "        tcks = list(range(0, end_point-start_point, time_interval))\n",
    "        \n",
    "        fig = plt.figure(i)\n",
    "        fig.set_figheight(15)\n",
    "        fig.set_figwidth(20)\n",
    "        \n",
    "        plt.subplots_adjust(hspace=0.5)\n",
    "        \n",
    "        rows = 2\n",
    "        columns = 3\n",
    "        \n",
    "        fig.add_subplot(rows, columns, 1)\n",
    "        plt.imshow(bp)\n",
    "        flipped_polygon = np.flip(prof_mask, axis=None)\n",
    "        flipped_ud_polygon = np.flipud(flipped_polygon)\n",
    "        polygon = Polygon(flipped_ud_polygon)\n",
    "        poly_points = polygon.buffer(0.7, join_style=3)\n",
    "        polygon_shape = Polygon(poly_points)\n",
    "        plt.plot(*polygon_shape.exterior.xy, color=colors[og_poly_number])\n",
    "        plt.title('A - Total view \\n (mean image)', fontsize = 20)\n",
    "        plt.axis('off')\n",
    "        \n",
    "        fig.add_subplot(rows, columns, 2)\n",
    "        plt.imshow(base_result)\n",
    "        plt.xlim(xone, xtwo)\n",
    "        plt.ylim(yone, ytwo)\n",
    "        plt.title('B - Source profile \\n (mean image)', fontsize = 20)\n",
    "        plt.axis('off')\n",
    "        \n",
    "        ax = fig.add_subplot(rows, columns, 3)\n",
    "        ax.imshow(result)\n",
    "        # plt.plot(*original_polygon, color = colors[og_poly_number])\n",
    "        plt.xlim(xone, xtwo)\n",
    "        plt.ylim(yone, ytwo)\n",
    "        plt.title('C - Transient profile \\n r = {0}'.format(cor), fontsize = 20)\n",
    "        plt.xticks(color = 'w')\n",
    "        plt.yticks(color = 'w')\n",
    "        \n",
    "        want = want\n",
    "        want_i = [index_start[k] for k in want]\n",
    "        \n",
    "        color = \"white\" if index_start[i] in want_i else \"red\"\n",
    "        for x in [\"top\",\"left\",\"right\",\"bottom\"]:\n",
    "            ax.spines[x].set_color(color)\n",
    "            ax.spines[x].set_linewidth(8)\n",
    "            \n",
    "        fig.add_subplot(rows, columns, 4)\n",
    "        plt.plot(soma_signal_smooth[index_start[i]-offset:index_stop[i]+offset], 'k')\n",
    "        plt.title(soma_title, fontsize = 20)\n",
    "        plt.ylim([-0.5, 3])\n",
    "        plt.xlabel('Time (s)', fontsize = 15)\n",
    "        plt.ylabel('Amplitude', fontsize = 15)\n",
    "        plt.xticks(ticks = tcks*w_seq, labels = lbls*w_seq, fontsize = 15)\n",
    "        plt.yticks(fontsize = 15)\n",
    "        plt.axvspan(interval_min, interval_max, color='moccasin', alpha=0.7)\n",
    "        \n",
    "        fig.add_subplot(rows, columns, 5)\n",
    "        plt.plot(dendrite_signal_smooth[index_start[i]-offset:index_stop[i]+offset], 'k')\n",
    "        plt.title(dendrite_title, fontsize = 20)\n",
    "        plt.ylim([-0.5, 3])\n",
    "        plt.xlabel('Time (s)', fontsize = 15)\n",
    "        plt.ylabel('Amplitude', fontsize = 15)\n",
    "        plt.xticks(ticks = tcks*w_seq, labels = lbls*w_seq, fontsize = 15)\n",
    "        plt.yticks(fontsize = 15)\n",
    "        plt.axvspan(interval_min, interval_max, color='moccasin', alpha=0.7)\n",
    "        \n",
    "        title_num = 1\n",
    "        title_num = title_num + i\n",
    "        \n",
    "        fig.suptitle(title.format(title_num), fontsize=20, weight = 'bold')\n",
    "        \n",
    "        pdf_pages = len(index_stop)\n",
    "        \n",
    "        with PdfPages(name) as pdf:\n",
    "            for fig in range(pdf_pages):\n",
    "                plt.figure(fig)\n",
    "                pdf.savefig(bbox_inches=\"tight\")    "
   ]
  },
  {
   "cell_type": "markdown",
   "id": "2e3a3f19-bc94-4187-8174-90c5fb3dee73",
   "metadata": {},
   "source": [
    "Calculate correlations:"
   ]
  },
  {
   "cell_type": "code",
   "execution_count": 181,
   "id": "8d0c8502-ac2b-420e-8147-ddeb88191420",
   "metadata": {},
   "outputs": [],
   "source": [
    "def cor_coeffs(prof_mask, smooth_signal, movie_tensor, base_profile, list_a, list_b):\n",
    "    cor_list = []\n",
    "    n = len(list_a)\n",
    "    for i, j in zip(range(n), range(n)):\n",
    "        trans = transient_profile(smooth_signal, movie_tensor, base_profile, list_a[i], list_b[j])\n",
    "        \n",
    "        buffered_mask = np.array(prof_mask)\n",
    "        mask = polygon2mask(trans.shape, buffered_mask)\n",
    "        result = ma.masked_array(trans, np.invert(mask))\n",
    "        base_result = ma.masked_array(base_profile, np.invert(mask))\n",
    "        \n",
    "        x_var = trans[tuple(prof_mask.T)].tolist()\n",
    "        y_var = base_profile[tuple(prof_mask.T)].tolist()\n",
    "        cor = np.round(np.corrcoef(x_var, y_var)[0][1], 3)\n",
    "        \n",
    "        cor_list.append(cor)\n",
    "        \n",
    "    return cor_list"
   ]
  },
  {
   "cell_type": "markdown",
   "id": "06deb8a4-89d2-4db1-81e4-f8053dcbc6ff",
   "metadata": {},
   "source": [
    "Separate true and false correlations:"
   ]
  },
  {
   "cell_type": "code",
   "execution_count": 182,
   "id": "b7db1124-1f9e-4154-bbf8-c550468f0b9b",
   "metadata": {},
   "outputs": [],
   "source": [
    "def truefalse(cor_coeffs, want):\n",
    "    \n",
    "    want = want\n",
    "    \n",
    "    false_cor = [cor_coeffs[k] for k in want]\n",
    "    true_cor = np.setxor1d(cor_coeffs, false_cor)\n",
    "    \n",
    "    return true_cor, false_cor"
   ]
  },
  {
   "cell_type": "markdown",
   "id": "480833cb-7073-46df-af37-13de0489e10e",
   "metadata": {},
   "source": [
    "## From here we specifiy the correlation list according to the actual compartment and the plots of the transient profiles of the actual compartment:"
   ]
  },
  {
   "cell_type": "code",
   "execution_count": 183,
   "id": "fa1a8633-98fb-4584-a859-78cf635f2ad8",
   "metadata": {
    "tags": []
   },
   "outputs": [],
   "source": [
    "#the prof and the sm parameters in the cor_list_dendrite need to be modified according the the currently measured ROI\n",
    "\n",
    "# cor_list_soma = cor_coeffs(prof0, sm0, movie_data, masks, soma_lista_lower, soma_lista_upper)\n",
    "cor_list_dendrite = cor_coeffs(prof3, sm3, movie_data, masks, lista_lower, lista_upper)"
   ]
  },
  {
   "cell_type": "markdown",
   "id": "9fb59032-f32f-485f-96eb-7d1cdf6b64db",
   "metadata": {},
   "source": [
    "Create PDFs:"
   ]
  },
  {
   "cell_type": "code",
   "execution_count": 184,
   "id": "a61b9530-e904-4997-893c-1871e80c90c6",
   "metadata": {},
   "outputs": [],
   "source": [
    "# exception_list_soma = []"
   ]
  },
  {
   "cell_type": "code",
   "execution_count": 185,
   "id": "e2faf6bb-54ca-4e1e-a4a5-737c4616b73d",
   "metadata": {},
   "outputs": [],
   "source": [
    "# true_cor_soma, false_cor_soma = truefalse(cor_list_soma, exception_list_soma)\n",
    "\n",
    "# name_soma = '7_seq_soma_truecor.npy'\n",
    "# name2_soma = '7_seq_soma_falsecor.npy'\n",
    "\n",
    "# np.save(name_soma, true_cor_soma)\n",
    "# np.save(name2_soma, false_cor_soma)"
   ]
  },
  {
   "cell_type": "code",
   "execution_count": 186,
   "id": "74bbed7d-5ab5-490d-9685-84d21fe0c783",
   "metadata": {},
   "outputs": [],
   "source": [
    "# show_profiles_soma(prof0, sm0, ev0, movie_data, masks, soma_lista_lower,\n",
    "#                    soma_lista_upper, xmin_soma, xmax_soma, ymin_soma, ymax_soma, exception_list_soma, pad_len, 0, which_sequence,\n",
    "#                    '7. sequence, {0}. somatic transient \\n', 'D - Soma dF/F', '7. sequence, somatic events.pdf')"
   ]
  },
  {
   "cell_type": "code",
   "execution_count": 187,
   "id": "fd607310-5e94-46c1-a12c-8f2d609e9643",
   "metadata": {},
   "outputs": [],
   "source": [
    "exception_list_dendrite = []"
   ]
  },
  {
   "cell_type": "code",
   "execution_count": 188,
   "id": "fa289286-0179-4589-a4b2-2246a38c2aae",
   "metadata": {},
   "outputs": [],
   "source": [
    "# true_cor_dendrite, false_cor_dendrite = truefalse(cor_list_dendrite, exception_list_dendrite)\n",
    "\n",
    "# name_dendrite = '5_seq_dend_3_truecor.npy'\n",
    "# name2_dendrite = '5_seq_dend_3_falsecor.npy'\n",
    "\n",
    "# np.save(name_dendrite, true_cor_dendrite)\n",
    "# np.save(name2_dendrite, false_cor_dendrite)"
   ]
  },
  {
   "cell_type": "code",
   "execution_count": 189,
   "id": "ed614ce6-1f3d-4798-99b4-aebc0c81189b",
   "metadata": {},
   "outputs": [],
   "source": [
    "# show_profiles_dendrites(prof3, sm0, sm3, ev0, ev3, movie_data, masks, lista_lower,\n",
    "#                         lista_upper, xminROI3, xmaxROI3, yminROI3, ymaxROI3, exception_list_dendrite, pad_len, 3, which_sequence, \n",
    "#                         '5. sequence, \\n {0}. dendritic transient 3. ROI', 'D - Soma dF/F \\n', \n",
    "#                         'E - Dendritic dF/F \\n','5. sequence, dendritic events - 3. ROI.pdf')"
   ]
  }
 ],
 "metadata": {
  "kernelspec": {
   "display_name": "Python 3",
   "language": "python",
   "name": "python3"
  },
  "language_info": {
   "codemirror_mode": {
    "name": "ipython",
    "version": 3
   },
   "file_extension": ".py",
   "mimetype": "text/x-python",
   "name": "python",
   "nbconvert_exporter": "python",
   "pygments_lexer": "ipython3",
   "version": "3.11.1"
  }
 },
 "nbformat": 4,
 "nbformat_minor": 5
}

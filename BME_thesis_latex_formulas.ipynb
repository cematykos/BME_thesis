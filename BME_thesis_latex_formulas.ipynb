{
 "cells": [
  {
   "cell_type": "markdown",
   "id": "37de3f47-8b43-4970-bdb8-f92fa109ce8d",
   "metadata": {},
   "source": [
    "\\begin{align}\n",
    "        x_{tp} = arg min_x \\lVert Y - x h^T \\rVert^2 \\\\\n",
    "    \\end{align}"
   ]
  },
  {
   "cell_type": "markdown",
   "id": "26ad8ea6-09c9-4e40-a293-0b016a3d0f0a",
   "metadata": {},
   "source": [
    "\\begin{align}\n",
    "        x_{tp1} = arg min_{x1} \\lVert x_1 h - Y_{1i} \\rVert^2 \\\\\n",
    "        = \\frac{\\partial}{\\partial x} \\sum_i(x_1h_i - Y_1)^2 \\\\\n",
    "        = \\sum_i 2(x_1 h_i - Y_1)h_i\n",
    "    \\end{align}"
   ]
  },
  {
   "cell_type": "markdown",
   "id": "822961b0-ee1d-46e6-a7de-03e84f8f0e40",
   "metadata": {},
   "source": [
    "\\begin{align}\n",
    "     \\sum_i 2 x_1 h_i^2 - 2y_{1i}h_i = 0\n",
    "    \\end{align}"
   ]
  },
  {
   "cell_type": "markdown",
   "id": "afd73f69-33c6-4618-b11b-a20e0d28067c",
   "metadata": {},
   "source": [
    "\\begin{align}\n",
    "    \\sum_i h_i^2 - \\sum_i y_{1i}h_i = 0\n",
    "    \\end{align}"
   ]
  },
  {
   "cell_type": "markdown",
   "id": "512bbd60-8d32-477c-b944-aefc7220e0d3",
   "metadata": {},
   "source": [
    "\\begin{align}\n",
    "    x_1 = \\frac{\\sum_i y_{1i}h_i}{\\sum_i h_i^2} \n",
    "    \\end{align}"
   ]
  },
  {
   "cell_type": "markdown",
   "id": "0989c972-4207-41fd-a8bb-002d1ba885d2",
   "metadata": {},
   "source": [
    "\\begin{align}\n",
    "    conv = \\exp(t/\\tau)\n",
    "    \\end{align}"
   ]
  },
  {
   "cell_type": "markdown",
   "id": "92f0b78d-b679-485f-82db-6cb26adc482b",
   "metadata": {},
   "source": [
    "\\begin{align}\n",
    "     t = 900 \\\\ \\tau_{soma} = 1.3, \\tau_{dendrite} = 0.7 \\\\ \n",
    "     conv = \\exp(t/\\tau)\n",
    "    \\end{align}"
   ]
  },
  {
   "cell_type": "markdown",
   "id": "23a5196f-fd10-49a7-8ff2-4df50ca60e55",
   "metadata": {},
   "source": [
    "\\begin{align}\n",
    "        x_t_p1 = \\frac{1}{\\sqrt{2\\pi\\sigma}} * exp^{-x^2/(2\\sigma^2)}\n",
    "    \\end{align}"
   ]
  }
 ],
 "metadata": {
  "kernelspec": {
   "display_name": "Python 3",
   "language": "python",
   "name": "python3"
  },
  "language_info": {
   "codemirror_mode": {
    "name": "ipython",
    "version": 3
   },
   "file_extension": ".py",
   "mimetype": "text/x-python",
   "name": "python",
   "nbconvert_exporter": "python",
   "pygments_lexer": "ipython3",
   "version": "3.11.1"
  }
 },
 "nbformat": 4,
 "nbformat_minor": 5
}
